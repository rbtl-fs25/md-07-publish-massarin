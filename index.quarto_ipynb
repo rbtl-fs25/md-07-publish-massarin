{
  "cells": [
    {
      "cell_type": "markdown",
      "metadata": {},
      "source": [
        "---\n",
        "title: \"Hello world!\"\n",
        "date: today\n",
        "author: Nicolo\n",
        "format: \n",
        "  html: \n",
        "    toc: true\n",
        "editor: visual\n",
        "---"
      ],
      "id": "651bd72b"
    },
    {
      "cell_type": "code",
      "metadata": {},
      "source": [
        "import pandas as pd\n",
        "penguins = pd.read_csv(\"palmer-penguins.csv\")\n",
        "ojs_define(data = penguins)"
      ],
      "id": "4ea17d32",
      "execution_count": null,
      "outputs": []
    },
    {
      "cell_type": "markdown",
      "metadata": {},
      "source": [
        "```{ojs}\n",
        "data = FileAttachment(\"palmer-penguins.csv\").csv({ typed: true })\n",
        "```\n",
        "\n",
        "```{ojs}\n",
        "viewof bill_length_min = Inputs.range(\n",
        "  [32, 50], \n",
        "  {value: 35, step: 1, label: \"Bill length (min):\"}\n",
        ")\n",
        "viewof islands = Inputs.checkbox(\n",
        "  [\"Torgersen\", \"Biscoe\", \"Dream\"], \n",
        "  { value: [\"Torgersen\", \"Biscoe\"], \n",
        "    label: \"Islands:\"\n",
        "  }\n",
        ")\n",
        "```\n",
        "\n",
        "```{ojs}\n",
        "filtered = data.filter(function(penguin) {\n",
        "  return bill_length_min < penguin.bill_length_mm &&\n",
        "         islands.includes(penguin.island);\n",
        "})\n",
        "```\n",
        "\n",
        "```{ojs}\n",
        "Plot.rectY(filtered, \n",
        "  Plot.binX(\n",
        "    {y: \"count\"}, \n",
        "    {x: \"body_mass_g\", fill: \"species\", thresholds: 20}\n",
        "  ))\n",
        "  .plot({\n",
        "    facet: {\n",
        "      data: filtered,\n",
        "      x: \"sex\",\n",
        "      y: \"species\",\n",
        "      marginRight: 80\n",
        "    },\n",
        "    marks: [\n",
        "      Plot.frame(),\n",
        "    ]\n",
        "  }\n",
        ")\n",
        "```"
      ],
      "id": "283cc277"
    }
  ],
  "metadata": {
    "kernelspec": {
      "display_name": "Python 3",
      "language": "python",
      "name": "python3"
    }
  },
  "nbformat": 4,
  "nbformat_minor": 5
}